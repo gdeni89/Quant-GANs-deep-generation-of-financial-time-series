{
 "cells": [
  {
   "cell_type": "markdown",
   "metadata": {},
   "source": [
    "# Data API - Time Series examples\n",
    "This notebook demonstrates how to retrieve Time Series from Eikon or Refinitiv Workspace (fee liable service).\n",
    "\n",
    "#### Learn more\n",
    "To learn more about the Data API just connect to the Refinitiv Developer Community. By [registering](https://developers.refinitiv.com/iam/register) and [login](https://developers.refinitiv.com/iam/login) to the Refinitiv Developer Community portal you will get free access to a number of learning materials like [Quick Start guides](https://developers.refinitiv.com/eikon-apis/eikon-data-api/quick-start), [Tutorials](https://developers.refinitiv.com/eikon-apis/eikon-data-api/learning), [Documentation](https://developers.refinitiv.com/eikon-apis/eikon-data-api/docs) and much more.  \n",
    "\n",
    "#### About the \"eikon\" module of the Refinitiv Data Platform Library\n",
    "The \"eikon\" module of the Refinitiv Data Platform Library for Python embeds all functions of the classical Eikon Data API (\"eikon\" python library). This module works the same as the Eikon Data API and can be used by applications that need the best of the Eikon Data API while taking advantage of the latest features offered by the Refinitiv Data Platform Library for Python. "
   ]
  },
  {
   "cell_type": "markdown",
   "metadata": {},
   "source": [
    "## Import the library and connect to Eikon or Refinitiv Workspace"
   ]
  },
  {
   "cell_type": "code",
   "execution_count": 3,
   "metadata": {},
   "outputs": [
    {
     "name": "stdout",
     "output_type": "stream",
     "text": [
      "\u001b[33mWARNING: Ignoring invalid distribution - (/home/davidg/Codes/Python_Codes/Environments/Python_38_NLP/lib/python3.8/site-packages)\u001b[0m\n",
      "\u001b[33mWARNING: Ignoring invalid distribution -andas (/home/davidg/Codes/Python_Codes/Environments/Python_38_NLP/lib/python3.8/site-packages)\u001b[0m\n",
      "\u001b[33mWARNING: Ignoring invalid distribution - (/home/davidg/Codes/Python_Codes/Environments/Python_38_NLP/lib/python3.8/site-packages)\u001b[0m\n",
      "\u001b[33mWARNING: Ignoring invalid distribution -andas (/home/davidg/Codes/Python_Codes/Environments/Python_38_NLP/lib/python3.8/site-packages)\u001b[0m\n",
      "Collecting eikon\n",
      "  Downloading eikon-1.1.14-py3-none-any.whl (130 kB)\n",
      "     |████████████████████████████████| 130 kB 17.2 MB/s            \n",
      "\u001b[?25hRequirement already satisfied: pandas>=1.0.0 in /home/davidg/Codes/Python_Codes/Environments/Python_38_NLP/lib/python3.8/site-packages (from eikon) (1.3.4)\n",
      "Requirement already satisfied: python-dateutil in /home/davidg/Codes/Python_Codes/Environments/Python_38_NLP/lib/python3.8/site-packages (from eikon) (2.8.2)\n",
      "Collecting websocket-client!=1.0.0,>=0.54.0\n",
      "  Downloading websocket_client-1.3.2-py3-none-any.whl (54 kB)\n",
      "     |████████████████████████████████| 54 kB 863 kB/s             \n",
      "\u001b[?25hCollecting h2==3.*\n",
      "  Downloading h2-3.2.0-py2.py3-none-any.whl (65 kB)\n",
      "     |████████████████████████████████| 65 kB 170 kB/s             \n",
      "\u001b[?25hRequirement already satisfied: requests==2.* in /home/davidg/Codes/Python_Codes/Environments/Python_38_NLP/lib/python3.8/site-packages (from eikon) (2.26.0)\n",
      "Collecting rfc3986==1.*\n",
      "  Downloading rfc3986-1.5.0-py2.py3-none-any.whl (31 kB)\n",
      "Collecting idna==2.*\n",
      "  Downloading idna-2.10-py2.py3-none-any.whl (58 kB)\n",
      "     |████████████████████████████████| 58 kB 1.3 MB/s             \n",
      "\u001b[?25hCollecting httpx>=0.18.0\n",
      "  Downloading httpx-0.22.0-py3-none-any.whl (84 kB)\n",
      "     |████████████████████████████████| 84 kB 527 kB/s             \n",
      "\u001b[?25hCollecting datetime\n",
      "  Downloading DateTime-4.4-py2.py3-none-any.whl (51 kB)\n",
      "     |████████████████████████████████| 51 kB 107 kB/s             \n",
      "\u001b[?25hCollecting deprecation\n",
      "  Downloading deprecation-2.1.0-py2.py3-none-any.whl (11 kB)\n",
      "Requirement already satisfied: numpy>=1.11.0 in /home/davidg/Codes/Python_Codes/Environments/Python_38_NLP/lib/python3.8/site-packages (from eikon) (1.20.2)\n",
      "Requirement already satisfied: certifi in /home/davidg/Codes/Python_Codes/Environments/Python_38_NLP/lib/python3.8/site-packages (from eikon) (2021.10.8)\n",
      "Requirement already satisfied: appdirs>=1.4.3 in /home/davidg/Codes/Python_Codes/Environments/Python_38_NLP/lib/python3.8/site-packages (from eikon) (1.4.4)\n",
      "Requirement already satisfied: chardet==3.* in /home/davidg/Codes/Python_Codes/Environments/Python_38_NLP/lib/python3.8/site-packages (from eikon) (3.0.4)\n",
      "Requirement already satisfied: nest-asyncio>=1.5.1 in /home/davidg/Codes/Python_Codes/Environments/Python_38_NLP/lib/python3.8/site-packages (from eikon) (1.5.4)\n",
      "Collecting hpack<4,>=3.0\n",
      "  Downloading hpack-3.0.0-py2.py3-none-any.whl (38 kB)\n",
      "Collecting hyperframe<6,>=5.2.0\n",
      "  Downloading hyperframe-5.2.0-py2.py3-none-any.whl (12 kB)\n",
      "Requirement already satisfied: charset-normalizer~=2.0.0 in /home/davidg/Codes/Python_Codes/Environments/Python_38_NLP/lib/python3.8/site-packages (from requests==2.*->eikon) (2.0.9)\n",
      "Requirement already satisfied: urllib3<1.27,>=1.21.1 in /home/davidg/Codes/Python_Codes/Environments/Python_38_NLP/lib/python3.8/site-packages (from requests==2.*->eikon) (1.26.7)\n",
      "Collecting httpcore<0.15.0,>=0.14.5\n",
      "  Downloading httpcore-0.14.7-py3-none-any.whl (68 kB)\n",
      "     |████████████████████████████████| 68 kB 1.0 MB/s             \n",
      "\u001b[?25hRequirement already satisfied: sniffio in /home/davidg/Codes/Python_Codes/Environments/Python_38_NLP/lib/python3.8/site-packages (from httpx>=0.18.0->eikon) (1.2.0)\n",
      "Requirement already satisfied: pytz>=2017.3 in /home/davidg/Codes/Python_Codes/Environments/Python_38_NLP/lib/python3.8/site-packages (from pandas>=1.0.0->eikon) (2021.3)\n",
      "Requirement already satisfied: six>=1.5 in /home/davidg/Codes/Python_Codes/Environments/Python_38_NLP/lib/python3.8/site-packages (from python-dateutil->eikon) (1.12.0)\n",
      "Collecting zope.interface\n",
      "  Downloading zope.interface-5.4.0-cp38-cp38-manylinux2010_x86_64.whl (259 kB)\n",
      "     |████████████████████████████████| 259 kB 67.5 MB/s            \n",
      "\u001b[?25hRequirement already satisfied: packaging in /home/davidg/Codes/Python_Codes/Environments/Python_38_NLP/lib/python3.8/site-packages (from deprecation->eikon) (21.3)\n",
      "Collecting anyio==3.*\n",
      "  Downloading anyio-3.5.0-py3-none-any.whl (79 kB)\n",
      "     |████████████████████████████████| 79 kB 923 kB/s             \n",
      "\u001b[?25hCollecting h11<0.13,>=0.11\n",
      "  Downloading h11-0.12.0-py3-none-any.whl (54 kB)\n",
      "     |████████████████████████████████| 54 kB 685 kB/s             \n",
      "\u001b[?25hRequirement already satisfied: pyparsing!=3.0.5,>=2.0.2 in /home/davidg/Codes/Python_Codes/Environments/Python_38_NLP/lib/python3.8/site-packages (from packaging->deprecation->eikon) (3.0.6)\n",
      "Requirement already satisfied: setuptools in /home/davidg/Codes/Python_Codes/Environments/Python_38_NLP/lib/python3.8/site-packages (from zope.interface->datetime->eikon) (59.5.0)\n",
      "\u001b[33mWARNING: Ignoring invalid distribution - (/home/davidg/Codes/Python_Codes/Environments/Python_38_NLP/lib/python3.8/site-packages)\u001b[0m\n",
      "\u001b[33mWARNING: Ignoring invalid distribution -andas (/home/davidg/Codes/Python_Codes/Environments/Python_38_NLP/lib/python3.8/site-packages)\u001b[0m\n",
      "Installing collected packages: idna, rfc3986, h11, anyio, zope.interface, hyperframe, httpcore, hpack, websocket-client, httpx, h2, deprecation, datetime, eikon\n",
      "  Attempting uninstall: idna\n",
      "\u001b[33m    WARNING: Ignoring invalid distribution - (/home/davidg/Codes/Python_Codes/Environments/Python_38_NLP/lib/python3.8/site-packages)\u001b[0m\n",
      "\u001b[33m    WARNING: Ignoring invalid distribution -andas (/home/davidg/Codes/Python_Codes/Environments/Python_38_NLP/lib/python3.8/site-packages)\u001b[0m\n",
      "    Found existing installation: idna 3.3\n",
      "    Uninstalling idna-3.3:\n",
      "      Successfully uninstalled idna-3.3\n",
      "  Attempting uninstall: h11\n",
      "\u001b[33m    WARNING: Ignoring invalid distribution - (/home/davidg/Codes/Python_Codes/Environments/Python_38_NLP/lib/python3.8/site-packages)\u001b[0m\n",
      "\u001b[33m    WARNING: Ignoring invalid distribution -andas (/home/davidg/Codes/Python_Codes/Environments/Python_38_NLP/lib/python3.8/site-packages)\u001b[0m\n",
      "    Found existing installation: h11 0.13.0\n",
      "    Uninstalling h11-0.13.0:\n",
      "      Successfully uninstalled h11-0.13.0\n",
      "\u001b[33mWARNING: Ignoring invalid distribution - (/home/davidg/Codes/Python_Codes/Environments/Python_38_NLP/lib/python3.8/site-packages)\u001b[0m\n",
      "\u001b[33mWARNING: Ignoring invalid distribution -andas (/home/davidg/Codes/Python_Codes/Environments/Python_38_NLP/lib/python3.8/site-packages)\u001b[0m\n",
      "\u001b[33mWARNING: Ignoring invalid distribution - (/home/davidg/Codes/Python_Codes/Environments/Python_38_NLP/lib/python3.8/site-packages)\u001b[0m\n",
      "\u001b[33mWARNING: Ignoring invalid distribution -andas (/home/davidg/Codes/Python_Codes/Environments/Python_38_NLP/lib/python3.8/site-packages)\u001b[0m\n",
      "\u001b[33mWARNING: Ignoring invalid distribution - (/home/davidg/Codes/Python_Codes/Environments/Python_38_NLP/lib/python3.8/site-packages)\u001b[0m\n",
      "\u001b[33mWARNING: Ignoring invalid distribution -andas (/home/davidg/Codes/Python_Codes/Environments/Python_38_NLP/lib/python3.8/site-packages)\u001b[0m\n",
      "\u001b[33mWARNING: Ignoring invalid distribution - (/home/davidg/Codes/Python_Codes/Environments/Python_38_NLP/lib/python3.8/site-packages)\u001b[0m\n",
      "\u001b[33mWARNING: Ignoring invalid distribution -andas (/home/davidg/Codes/Python_Codes/Environments/Python_38_NLP/lib/python3.8/site-packages)\u001b[0m\n",
      "\u001b[33mWARNING: Ignoring invalid distribution - (/home/davidg/Codes/Python_Codes/Environments/Python_38_NLP/lib/python3.8/site-packages)\u001b[0m\n",
      "\u001b[33mWARNING: Ignoring invalid distribution -andas (/home/davidg/Codes/Python_Codes/Environments/Python_38_NLP/lib/python3.8/site-packages)\u001b[0m\n",
      "\u001b[33mWARNING: Ignoring invalid distribution - (/home/davidg/Codes/Python_Codes/Environments/Python_38_NLP/lib/python3.8/site-packages)\u001b[0m\n",
      "\u001b[33mWARNING: Ignoring invalid distribution -andas (/home/davidg/Codes/Python_Codes/Environments/Python_38_NLP/lib/python3.8/site-packages)\u001b[0m\n",
      "\u001b[33mWARNING: Ignoring invalid distribution - (/home/davidg/Codes/Python_Codes/Environments/Python_38_NLP/lib/python3.8/site-packages)\u001b[0m\n",
      "\u001b[33mWARNING: Ignoring invalid distribution -andas (/home/davidg/Codes/Python_Codes/Environments/Python_38_NLP/lib/python3.8/site-packages)\u001b[0m\n",
      "\u001b[33mWARNING: Ignoring invalid distribution - (/home/davidg/Codes/Python_Codes/Environments/Python_38_NLP/lib/python3.8/site-packages)\u001b[0m\n",
      "\u001b[33mWARNING: Ignoring invalid distribution -andas (/home/davidg/Codes/Python_Codes/Environments/Python_38_NLP/lib/python3.8/site-packages)\u001b[0m\n",
      "\u001b[33mWARNING: Ignoring invalid distribution - (/home/davidg/Codes/Python_Codes/Environments/Python_38_NLP/lib/python3.8/site-packages)\u001b[0m\n",
      "\u001b[33mWARNING: Ignoring invalid distribution -andas (/home/davidg/Codes/Python_Codes/Environments/Python_38_NLP/lib/python3.8/site-packages)\u001b[0m\n",
      "\u001b[33mWARNING: Ignoring invalid distribution - (/home/davidg/Codes/Python_Codes/Environments/Python_38_NLP/lib/python3.8/site-packages)\u001b[0m\n",
      "\u001b[33mWARNING: Ignoring invalid distribution -andas (/home/davidg/Codes/Python_Codes/Environments/Python_38_NLP/lib/python3.8/site-packages)\u001b[0m\n",
      "\u001b[33mWARNING: Ignoring invalid distribution - (/home/davidg/Codes/Python_Codes/Environments/Python_38_NLP/lib/python3.8/site-packages)\u001b[0m\n",
      "\u001b[33mWARNING: Ignoring invalid distribution -andas (/home/davidg/Codes/Python_Codes/Environments/Python_38_NLP/lib/python3.8/site-packages)\u001b[0m\n",
      "\u001b[33mWARNING: Ignoring invalid distribution - (/home/davidg/Codes/Python_Codes/Environments/Python_38_NLP/lib/python3.8/site-packages)\u001b[0m\n",
      "\u001b[33mWARNING: Ignoring invalid distribution -andas (/home/davidg/Codes/Python_Codes/Environments/Python_38_NLP/lib/python3.8/site-packages)\u001b[0m\n",
      "\u001b[33mWARNING: Ignoring invalid distribution - (/home/davidg/Codes/Python_Codes/Environments/Python_38_NLP/lib/python3.8/site-packages)\u001b[0m\n",
      "\u001b[33mWARNING: Ignoring invalid distribution -andas (/home/davidg/Codes/Python_Codes/Environments/Python_38_NLP/lib/python3.8/site-packages)\u001b[0m\n",
      "\u001b[33mWARNING: Ignoring invalid distribution - (/home/davidg/Codes/Python_Codes/Environments/Python_38_NLP/lib/python3.8/site-packages)\u001b[0m\n",
      "\u001b[33mWARNING: Ignoring invalid distribution -andas (/home/davidg/Codes/Python_Codes/Environments/Python_38_NLP/lib/python3.8/site-packages)\u001b[0m\n",
      "Successfully installed anyio-3.5.0 datetime-4.4 deprecation-2.1.0 eikon-1.1.14 h11-0.12.0 h2-3.2.0 hpack-3.0.0 httpcore-0.14.7 httpx-0.22.0 hyperframe-5.2.0 idna-2.10 rfc3986-1.5.0 websocket-client-1.3.2 zope.interface-5.4.0\n",
      "\u001b[33mWARNING: Ignoring invalid distribution - (/home/davidg/Codes/Python_Codes/Environments/Python_38_NLP/lib/python3.8/site-packages)\u001b[0m\n",
      "\u001b[33mWARNING: Ignoring invalid distribution -andas (/home/davidg/Codes/Python_Codes/Environments/Python_38_NLP/lib/python3.8/site-packages)\u001b[0m\n",
      "\u001b[33mWARNING: Ignoring invalid distribution - (/home/davidg/Codes/Python_Codes/Environments/Python_38_NLP/lib/python3.8/site-packages)\u001b[0m\n",
      "\u001b[33mWARNING: Ignoring invalid distribution -andas (/home/davidg/Codes/Python_Codes/Environments/Python_38_NLP/lib/python3.8/site-packages)\u001b[0m\n",
      "\u001b[33mWARNING: Ignoring invalid distribution - (/home/davidg/Codes/Python_Codes/Environments/Python_38_NLP/lib/python3.8/site-packages)\u001b[0m\n",
      "\u001b[33mWARNING: Ignoring invalid distribution -andas (/home/davidg/Codes/Python_Codes/Environments/Python_38_NLP/lib/python3.8/site-packages)\u001b[0m\n",
      "\u001b[33mWARNING: You are using pip version 21.3.1; however, version 22.0.4 is available.\n",
      "You should consider upgrading via the '/home/davidg/Codes/Python_Codes/Environments/Python_38_NLP/bin/python -m pip install --upgrade pip' command.\u001b[0m\n"
     ]
    },
    {
     "ename": "ModuleNotFoundError",
     "evalue": "No module named 'refinitiv'",
     "output_type": "error",
     "traceback": [
      "\u001b[0;31m---------------------------------------------------------------------------\u001b[0m",
      "\u001b[0;31mModuleNotFoundError\u001b[0m                       Traceback (most recent call last)",
      "\u001b[0;32m/tmp/ipykernel_16819/1126925974.py\u001b[0m in \u001b[0;36m<module>\u001b[0;34m\u001b[0m\n\u001b[1;32m      1\u001b[0m \u001b[0mget_ipython\u001b[0m\u001b[0;34m(\u001b[0m\u001b[0;34m)\u001b[0m\u001b[0;34m.\u001b[0m\u001b[0msystem\u001b[0m\u001b[0;34m(\u001b[0m\u001b[0;34m'pip install eikon'\u001b[0m\u001b[0;34m)\u001b[0m\u001b[0;34m\u001b[0m\u001b[0;34m\u001b[0m\u001b[0m\n\u001b[0;32m----> 2\u001b[0;31m \u001b[0;32mimport\u001b[0m \u001b[0mrefinitiv\u001b[0m\u001b[0;34m.\u001b[0m\u001b[0mdataplatform\u001b[0m\u001b[0;34m.\u001b[0m\u001b[0meikon\u001b[0m \u001b[0;32mas\u001b[0m \u001b[0mek\u001b[0m\u001b[0;34m\u001b[0m\u001b[0;34m\u001b[0m\u001b[0m\n\u001b[0m\u001b[1;32m      3\u001b[0m \u001b[0;32mimport\u001b[0m \u001b[0mdatetime\u001b[0m\u001b[0;34m\u001b[0m\u001b[0;34m\u001b[0m\u001b[0m\n\u001b[1;32m      4\u001b[0m \u001b[0;34m\u001b[0m\u001b[0m\n\u001b[1;32m      5\u001b[0m \u001b[0mek\u001b[0m\u001b[0;34m.\u001b[0m\u001b[0mset_app_key\u001b[0m\u001b[0;34m(\u001b[0m\u001b[0;34m'xxxxxx'\u001b[0m\u001b[0;34m)\u001b[0m\u001b[0;34m\u001b[0m\u001b[0;34m\u001b[0m\u001b[0m\n",
      "\u001b[0;31mModuleNotFoundError\u001b[0m: No module named 'refinitiv'"
     ]
    }
   ],
   "source": [
    "import refinitiv.dataplatform.eikon as ek\n",
    "import datetime\n",
    "\n",
    "ek.set_app_key('xxxxxx')"
   ]
  },
  {
   "cell_type": "markdown",
   "metadata": {},
   "source": [
    "## Get Time Series"
   ]
  },
  {
   "cell_type": "markdown",
   "metadata": {},
   "source": [
    "#### Simple call with default parameters"
   ]
  },
  {
   "cell_type": "code",
   "execution_count": 21,
   "metadata": {},
   "outputs": [],
   "source": [
    "SP500_daily = ek.get_timeseries(['.SPX'], start_date='2011-01-01', interval='daily')['CLOSE']\n",
    "ShanghaiSE_daily = ek.get_timeseries(['.SSEC'], start_date='2011-01-01', interval='daily')['CLOSE']"
   ]
  },
  {
   "cell_type": "markdown",
   "metadata": {},
   "source": [
    "#### Sanity Check Results"
   ]
  },
  {
   "cell_type": "code",
   "execution_count": 22,
   "metadata": {},
   "outputs": [
    {
     "name": "stdout",
     "output_type": "stream",
     "text": [
      "SP500_daily.shape: (2680,)\n",
      "ShanghaiSE_daily.shape: (2592, 6)\n"
     ]
    }
   ],
   "source": [
    "print(f\"SP500_daily.shape: {SP500_daily.shape}\")\n",
    "print(f\"ShanghaiSE_daily.shape: {ShanghaiSE_daily.shape}\")['CLOSE']"
   ]
  },
  {
   "cell_type": "markdown",
   "metadata": {},
   "source": [
    "#### Save Results"
   ]
  },
  {
   "cell_type": "code",
   "execution_count": 23,
   "metadata": {},
   "outputs": [],
   "source": [
    "SP500_daily.to_csv(f'./SP500_daily.csv')\n",
    "ShanghaiSE_daily.to_csv(f'./ShanghaiSE_daily.csv')"
   ]
  },
  {
   "cell_type": "code",
   "execution_count": null,
   "metadata": {},
   "outputs": [],
   "source": []
  }
 ],
 "metadata": {
  "kernelspec": {
   "display_name": "Python 3",
   "language": "python",
   "name": "python3"
  },
  "language_info": {
   "codemirror_mode": {
    "name": "ipython",
    "version": 3
   },
   "file_extension": ".py",
   "mimetype": "text/x-python",
   "name": "python",
   "nbconvert_exporter": "python",
   "pygments_lexer": "ipython3",
   "version": "3.8.10"
  },
  "widgets": {
   "application/vnd.jupyter.widget-state+json": {
    "state": {},
    "version_major": 2,
    "version_minor": 0
   }
  }
 },
 "nbformat": 4,
 "nbformat_minor": 4
}
